{
 "cells": [
  {
   "cell_type": "code",
   "execution_count": 1,
   "metadata": {},
   "outputs": [],
   "source": [
    "import pandas as pd"
   ]
  },
  {
   "cell_type": "code",
   "execution_count": 6,
   "metadata": {},
   "outputs": [],
   "source": [
    "salesdetails=pd.read_csv(r\"C:\\Users\\91858\\Downloads\\Data Fiesta 2.0 Round 2 Docket\\Data Fiesta 2.0 Round 2 Docket\\Data Fiesta 2.0 Round 2 Docket\\Data Fiesta 2.0 Round 2 -  Data\\SALESDETAILS.csv\")\n",
    "region=pd.read_csv(r\"C:\\Users\\91858\\Downloads\\Data Fiesta 2.0 Round 2 Docket\\Data Fiesta 2.0 Round 2 Docket\\Data Fiesta 2.0 Round 2 Docket\\Data Fiesta 2.0 Round 2 -  Data\\REGION.csv\")\n",
    "customer=pd.read_csv(r\"C:\\Users\\91858\\Downloads\\Data Fiesta 2.0 Round 2 Docket\\Data Fiesta 2.0 Round 2 Docket\\Data Fiesta 2.0 Round 2 Docket\\Data Fiesta 2.0 Round 2 -  Data\\CUSTOMERS.csv\")"
   ]
  },
  {
   "cell_type": "code",
   "execution_count": 7,
   "metadata": {},
   "outputs": [],
   "source": [
    "df1=pd.merge(salesdetails, customer, on='Address Number')"
   ]
  },
  {
   "cell_type": "code",
   "execution_count": 8,
   "metadata": {},
   "outputs": [],
   "source": [
    "df2=pd.merge(df1, region, on='Region Code')"
   ]
  },
  {
   "cell_type": "code",
   "execution_count": 9,
   "metadata": {},
   "outputs": [],
   "source": [
    "df3=df2.filter(['Region Code','Payment Terms'], axis=1)"
   ]
  },
  {
   "cell_type": "code",
   "execution_count": 10,
   "metadata": {},
   "outputs": [
    {
     "data": {
      "text/html": [
       "<div>\n",
       "<style scoped>\n",
       "    .dataframe tbody tr th:only-of-type {\n",
       "        vertical-align: middle;\n",
       "    }\n",
       "\n",
       "    .dataframe tbody tr th {\n",
       "        vertical-align: top;\n",
       "    }\n",
       "\n",
       "    .dataframe thead th {\n",
       "        text-align: right;\n",
       "    }\n",
       "</style>\n",
       "<table border=\"1\" class=\"dataframe\">\n",
       "  <thead>\n",
       "    <tr style=\"text-align: right;\">\n",
       "      <th></th>\n",
       "      <th>Region Code</th>\n",
       "      <th>Payment Terms</th>\n",
       "    </tr>\n",
       "  </thead>\n",
       "  <tbody>\n",
       "    <tr>\n",
       "      <th>0</th>\n",
       "      <td>1</td>\n",
       "      <td>NET</td>\n",
       "    </tr>\n",
       "    <tr>\n",
       "      <th>1</th>\n",
       "      <td>1</td>\n",
       "      <td>215</td>\n",
       "    </tr>\n",
       "    <tr>\n",
       "      <th>2</th>\n",
       "      <td>1</td>\n",
       "      <td>2P1</td>\n",
       "    </tr>\n",
       "    <tr>\n",
       "      <th>3</th>\n",
       "      <td>1</td>\n",
       "      <td>2P1</td>\n",
       "    </tr>\n",
       "    <tr>\n",
       "      <th>4</th>\n",
       "      <td>1</td>\n",
       "      <td>215</td>\n",
       "    </tr>\n",
       "    <tr>\n",
       "      <th>...</th>\n",
       "      <td>...</td>\n",
       "      <td>...</td>\n",
       "    </tr>\n",
       "    <tr>\n",
       "      <th>298156</th>\n",
       "      <td>0</td>\n",
       "      <td>N30</td>\n",
       "    </tr>\n",
       "    <tr>\n",
       "      <th>298157</th>\n",
       "      <td>0</td>\n",
       "      <td>N30</td>\n",
       "    </tr>\n",
       "    <tr>\n",
       "      <th>298158</th>\n",
       "      <td>0</td>\n",
       "      <td>445</td>\n",
       "    </tr>\n",
       "    <tr>\n",
       "      <th>298159</th>\n",
       "      <td>0</td>\n",
       "      <td>445</td>\n",
       "    </tr>\n",
       "    <tr>\n",
       "      <th>298160</th>\n",
       "      <td>0</td>\n",
       "      <td>445</td>\n",
       "    </tr>\n",
       "  </tbody>\n",
       "</table>\n",
       "<p>298161 rows × 2 columns</p>\n",
       "</div>"
      ],
      "text/plain": [
       "        Region Code Payment Terms\n",
       "0                 1           NET\n",
       "1                 1           215\n",
       "2                 1           2P1\n",
       "3                 1           2P1\n",
       "4                 1           215\n",
       "...             ...           ...\n",
       "298156            0           N30\n",
       "298157            0           N30\n",
       "298158            0           445\n",
       "298159            0           445\n",
       "298160            0           445\n",
       "\n",
       "[298161 rows x 2 columns]"
      ]
     },
     "execution_count": 10,
     "metadata": {},
     "output_type": "execute_result"
    }
   ],
   "source": [
    "df3"
   ]
  },
  {
   "cell_type": "code",
   "execution_count": 11,
   "metadata": {},
   "outputs": [],
   "source": [
    "df3.to_csv('PaytmentType.csv')"
   ]
  },
  {
   "cell_type": "code",
   "execution_count": 49,
   "metadata": {},
   "outputs": [],
   "source": [
    "r0=df3.loc[df3['Region Code'] == 0]"
   ]
  },
  {
   "cell_type": "code",
   "execution_count": 50,
   "metadata": {},
   "outputs": [],
   "source": [
    "r1=df3.loc[df3['Region Code'] == 1]"
   ]
  },
  {
   "cell_type": "code",
   "execution_count": 51,
   "metadata": {},
   "outputs": [],
   "source": [
    "r2=df3.loc[df3['Region Code'] == 2]"
   ]
  },
  {
   "cell_type": "code",
   "execution_count": 52,
   "metadata": {},
   "outputs": [],
   "source": [
    "r3=df3.loc[df3['Region Code'] == 3]"
   ]
  },
  {
   "cell_type": "code",
   "execution_count": 53,
   "metadata": {},
   "outputs": [],
   "source": [
    "r4=df3.loc[df3['Region Code'] == 4]"
   ]
  },
  {
   "cell_type": "code",
   "execution_count": 54,
   "metadata": {},
   "outputs": [],
   "source": [
    "r5=df3.loc[df3['Region Code'] == 5]"
   ]
  }
 ],
 "metadata": {
  "kernelspec": {
   "display_name": "Python 3",
   "language": "python",
   "name": "python3"
  },
  "language_info": {
   "codemirror_mode": {
    "name": "ipython",
    "version": 3
   },
   "file_extension": ".py",
   "mimetype": "text/x-python",
   "name": "python",
   "nbconvert_exporter": "python",
   "pygments_lexer": "ipython3",
   "version": "3.7.6"
  }
 },
 "nbformat": 4,
 "nbformat_minor": 4
}
