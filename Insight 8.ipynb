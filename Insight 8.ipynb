{
 "cells": [
  {
   "cell_type": "code",
   "execution_count": 16,
   "metadata": {},
   "outputs": [],
   "source": [
    "import pandas as pd"
   ]
  },
  {
   "cell_type": "code",
   "execution_count": 17,
   "metadata": {},
   "outputs": [
    {
     "name": "stderr",
     "output_type": "stream",
     "text": [
      "C:\\Users\\91858\\anaconda3\\lib\\site-packages\\IPython\\core\\interactiveshell.py:3063: DtypeWarning: Columns (13) have mixed types.Specify dtype option on import or set low_memory=False.\n",
      "  interactivity=interactivity, compiler=compiler, result=result)\n"
     ]
    }
   ],
   "source": [
    "salesdetails=pd.read_csv(r\"C:\\Users\\91858\\Downloads\\Data Fiesta 2.0 Round 2 Docket\\Data Fiesta 2.0 Round 2 Docket\\Data Fiesta 2.0 Round 2 Docket\\Data Fiesta 2.0 Round 2 -  Data\\SALESDETAILS.csv\")\n",
    "region=pd.read_csv(r\"C:\\Users\\91858\\Downloads\\Data Fiesta 2.0 Round 2 Docket\\Data Fiesta 2.0 Round 2 Docket\\Data Fiesta 2.0 Round 2 Docket\\Data Fiesta 2.0 Round 2 -  Data\\REGION.csv\")\n",
    "customer=pd.read_csv(r\"C:\\Users\\91858\\Downloads\\Data Fiesta 2.0 Round 2 Docket\\Data Fiesta 2.0 Round 2 Docket\\Data Fiesta 2.0 Round 2 Docket\\Data Fiesta 2.0 Round 2 -  Data\\CUSTOMERS.csv\")"
   ]
  },
  {
   "cell_type": "code",
   "execution_count": 24,
   "metadata": {},
   "outputs": [],
   "source": [
    "df1=pd.merge(salesdetails, customer, on='Address Number')"
   ]
  },
  {
   "cell_type": "code",
   "execution_count": 25,
   "metadata": {},
   "outputs": [],
   "source": [
    "df2=pd.merge(df1, region, on='Region Code')"
   ]
  },
  {
   "cell_type": "code",
   "execution_count": 26,
   "metadata": {},
   "outputs": [],
   "source": [
    "indexNames = df2[ df2['Sales Quantity'] <=0].index\n",
    "df2.drop(indexNames , inplace=True)"
   ]
  },
  {
   "cell_type": "code",
   "execution_count": 27,
   "metadata": {},
   "outputs": [],
   "source": [
    "df3=df2.filter(['Region Code','Line Desc 1', 'Sales Quantity'], axis=1)"
   ]
  },
  {
   "cell_type": "code",
   "execution_count": 28,
   "metadata": {},
   "outputs": [],
   "source": [
    "df4 = df3.dropna()"
   ]
  },
  {
   "cell_type": "code",
   "execution_count": 29,
   "metadata": {},
   "outputs": [
    {
     "data": {
      "text/html": [
       "<div>\n",
       "<style scoped>\n",
       "    .dataframe tbody tr th:only-of-type {\n",
       "        vertical-align: middle;\n",
       "    }\n",
       "\n",
       "    .dataframe tbody tr th {\n",
       "        vertical-align: top;\n",
       "    }\n",
       "\n",
       "    .dataframe thead th {\n",
       "        text-align: right;\n",
       "    }\n",
       "</style>\n",
       "<table border=\"1\" class=\"dataframe\">\n",
       "  <thead>\n",
       "    <tr style=\"text-align: right;\">\n",
       "      <th></th>\n",
       "      <th>Region Code</th>\n",
       "      <th>Line Desc 1</th>\n",
       "      <th>Sales Quantity</th>\n",
       "    </tr>\n",
       "  </thead>\n",
       "  <tbody>\n",
       "    <tr>\n",
       "      <th>425</th>\n",
       "      <td>1</td>\n",
       "      <td>Gorilla Jack Cheese</td>\n",
       "      <td>3.0</td>\n",
       "    </tr>\n",
       "    <tr>\n",
       "      <th>426</th>\n",
       "      <td>1</td>\n",
       "      <td>Ebony Fresh Lima Beans</td>\n",
       "      <td>1.0</td>\n",
       "    </tr>\n",
       "    <tr>\n",
       "      <th>427</th>\n",
       "      <td>1</td>\n",
       "      <td>Even Better Buttermilk</td>\n",
       "      <td>1.0</td>\n",
       "    </tr>\n",
       "    <tr>\n",
       "      <th>428</th>\n",
       "      <td>1</td>\n",
       "      <td>Footnote Seasoned Hamburger</td>\n",
       "      <td>1.0</td>\n",
       "    </tr>\n",
       "    <tr>\n",
       "      <th>429</th>\n",
       "      <td>1</td>\n",
       "      <td>Colony Wheat Bread</td>\n",
       "      <td>1.0</td>\n",
       "    </tr>\n",
       "    <tr>\n",
       "      <th>...</th>\n",
       "      <td>...</td>\n",
       "      <td>...</td>\n",
       "      <td>...</td>\n",
       "    </tr>\n",
       "    <tr>\n",
       "      <th>298156</th>\n",
       "      <td>0</td>\n",
       "      <td>High Top Golden Delcious Apples</td>\n",
       "      <td>140.0</td>\n",
       "    </tr>\n",
       "    <tr>\n",
       "      <th>298157</th>\n",
       "      <td>0</td>\n",
       "      <td>High Top Golden Delcious Apples</td>\n",
       "      <td>140.0</td>\n",
       "    </tr>\n",
       "    <tr>\n",
       "      <th>298158</th>\n",
       "      <td>0</td>\n",
       "      <td>Fantastic White Bread</td>\n",
       "      <td>1.0</td>\n",
       "    </tr>\n",
       "    <tr>\n",
       "      <th>298159</th>\n",
       "      <td>0</td>\n",
       "      <td>Best Choice Fudge Cookies</td>\n",
       "      <td>1.0</td>\n",
       "    </tr>\n",
       "    <tr>\n",
       "      <th>298160</th>\n",
       "      <td>0</td>\n",
       "      <td>Best Choice Fudge Cookies</td>\n",
       "      <td>1.0</td>\n",
       "    </tr>\n",
       "  </tbody>\n",
       "</table>\n",
       "<p>280813 rows × 3 columns</p>\n",
       "</div>"
      ],
      "text/plain": [
       "        Region Code                      Line Desc 1  Sales Quantity\n",
       "425               1              Gorilla Jack Cheese             3.0\n",
       "426               1           Ebony Fresh Lima Beans             1.0\n",
       "427               1           Even Better Buttermilk             1.0\n",
       "428               1      Footnote Seasoned Hamburger             1.0\n",
       "429               1               Colony Wheat Bread             1.0\n",
       "...             ...                              ...             ...\n",
       "298156            0  High Top Golden Delcious Apples           140.0\n",
       "298157            0  High Top Golden Delcious Apples           140.0\n",
       "298158            0            Fantastic White Bread             1.0\n",
       "298159            0        Best Choice Fudge Cookies             1.0\n",
       "298160            0        Best Choice Fudge Cookies             1.0\n",
       "\n",
       "[280813 rows x 3 columns]"
      ]
     },
     "execution_count": 29,
     "metadata": {},
     "output_type": "execute_result"
    }
   ],
   "source": [
    "df4"
   ]
  },
  {
   "cell_type": "code",
   "execution_count": 32,
   "metadata": {},
   "outputs": [],
   "source": [
    "df4.to_csv(\"RegionProduct.csv\")"
   ]
  },
  {
   "cell_type": "code",
   "execution_count": null,
   "metadata": {},
   "outputs": [],
   "source": []
  }
 ],
 "metadata": {
  "kernelspec": {
   "display_name": "Python 3",
   "language": "python",
   "name": "python3"
  },
  "language_info": {
   "codemirror_mode": {
    "name": "ipython",
    "version": 3
   },
   "file_extension": ".py",
   "mimetype": "text/x-python",
   "name": "python",
   "nbconvert_exporter": "python",
   "pygments_lexer": "ipython3",
   "version": "3.7.6"
  }
 },
 "nbformat": 4,
 "nbformat_minor": 4
}
